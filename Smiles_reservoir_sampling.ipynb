{
 "cells": [
  {
   "cell_type": "markdown",
   "id": "beb997ce",
   "metadata": {
    "papermill": {
     "duration": 0.012513,
     "end_time": "2022-02-22T11:48:40.477577",
     "exception": false,
     "start_time": "2022-02-22T11:48:40.465064",
     "status": "completed"
    },
    "tags": []
   },
   "source": [
    "In this notebook reservoir sampling is being implemented. This is a method to randomly sample from a stream of data of unknown length.                          \n",
    " \n",
    "Generally random sampling methods rely on knowing the number of items in the population, or on having random access to the storage.  But with a very large amount of data, for example too large to hold in memory, or data which is streamed and not stored in its entirety, this might not be the case.\n",
    "\n",
    "Reservoir sampling gets around this issue by holding $k$ items in a priority queue sorted according to a random tag value as the stream of data is processed."
   ]
  },
  {
   "cell_type": "code",
   "execution_count": 1,
   "id": "5077ac67",
   "metadata": {
    "_cell_guid": "b1076dfc-b9ad-4769-8c92-a6c4dae69d19",
    "_uuid": "8f2839f25d086af736a60e9eeb907d3b93b6e0e5",
    "execution": {
     "iopub.execute_input": "2022-02-22T11:48:40.510880Z",
     "iopub.status.busy": "2022-02-22T11:48:40.509912Z",
     "iopub.status.idle": "2022-02-22T11:48:40.524735Z",
     "shell.execute_reply": "2022-02-22T11:48:40.525397Z",
     "shell.execute_reply.started": "2022-02-22T11:36:41.091990Z"
    },
    "papermill": {
     "duration": 0.035094,
     "end_time": "2022-02-22T11:48:40.525781",
     "exception": false,
     "start_time": "2022-02-22T11:48:40.490687",
     "status": "completed"
    },
    "tags": []
   },
   "outputs": [
    {
     "name": "stdout",
     "output_type": "stream",
     "text": [
      "/kaggle/input/chembl22/chembl_22_clean_1576904_sorted_std_final.smi\n"
     ]
    }
   ],
   "source": [
    "import os\n",
    "for dirname, _, filenames in os.walk('/kaggle/input'):\n",
    "    for filename in filenames:\n",
    "        print(os.path.join(dirname, filename))"
   ]
  },
  {
   "cell_type": "code",
   "execution_count": 2,
   "id": "34747693",
   "metadata": {
    "execution": {
     "iopub.execute_input": "2022-02-22T11:48:40.552180Z",
     "iopub.status.busy": "2022-02-22T11:48:40.551118Z",
     "iopub.status.idle": "2022-02-22T11:48:40.555010Z",
     "shell.execute_reply": "2022-02-22T11:48:40.555630Z",
     "shell.execute_reply.started": "2022-02-22T11:36:41.110976Z"
    },
    "papermill": {
     "duration": 0.018814,
     "end_time": "2022-02-22T11:48:40.555822",
     "exception": false,
     "start_time": "2022-02-22T11:48:40.537008",
     "status": "completed"
    },
    "tags": []
   },
   "outputs": [],
   "source": [
    "from pathlib import Path\n",
    "import random\n",
    "import heapq"
   ]
  },
  {
   "cell_type": "code",
   "execution_count": 3,
   "id": "38e373ba",
   "metadata": {
    "execution": {
     "iopub.execute_input": "2022-02-22T11:48:40.581851Z",
     "iopub.status.busy": "2022-02-22T11:48:40.580790Z",
     "iopub.status.idle": "2022-02-22T11:48:40.584945Z",
     "shell.execute_reply": "2022-02-22T11:48:40.585612Z",
     "shell.execute_reply.started": "2022-02-22T11:36:41.122927Z"
    },
    "papermill": {
     "duration": 0.019132,
     "end_time": "2022-02-22T11:48:40.585805",
     "exception": false,
     "start_time": "2022-02-22T11:48:40.566673",
     "status": "completed"
    },
    "tags": []
   },
   "outputs": [],
   "source": [
    "datafile = Path('/kaggle/input/chembl22/chembl_22_clean_1576904_sorted_std_final.smi')"
   ]
  },
  {
   "cell_type": "code",
   "execution_count": 4,
   "id": "165c5e58",
   "metadata": {
    "execution": {
     "iopub.execute_input": "2022-02-22T11:48:40.617943Z",
     "iopub.status.busy": "2022-02-22T11:48:40.616890Z",
     "iopub.status.idle": "2022-02-22T11:48:40.620249Z",
     "shell.execute_reply": "2022-02-22T11:48:40.620865Z",
     "shell.execute_reply.started": "2022-02-22T11:37:37.621117Z"
    },
    "papermill": {
     "duration": 0.024215,
     "end_time": "2022-02-22T11:48:40.621065",
     "exception": false,
     "start_time": "2022-02-22T11:48:40.596850",
     "status": "completed"
    },
    "tags": []
   },
   "outputs": [],
   "source": [
    "class ReservoirSample:\n",
    "    @property\n",
    "    def fileline(self):\n",
    "        l = self.file.readline()\n",
    "        # once EOF has been reached, readline returns empty string\n",
    "        if len(l) == 0:\n",
    "            return None\n",
    "        # tag each item with a random value\n",
    "        return (random.random(), l)\n",
    "        \n",
    "    def __init__(self, path, k=5):\n",
    "        self.heap = []\n",
    "        self.file = path.open()\n",
    "        while True:\n",
    "            s = self.fileline\n",
    "            if s is None:\n",
    "                break\n",
    "            if len(self.heap) < k:\n",
    "                heapq.heappush(self.heap, s)\n",
    "            else:\n",
    "                # add the new item to the heap, then remove the item with the \n",
    "                # smallest tag value\n",
    "                heapq.heappushpop(self.heap, s)\n",
    "        self.file.close()\n",
    "        \n",
    "    @property\n",
    "    def sample(self):\n",
    "        return [h[1] for h in self.heap]\n",
    "        \n",
    "    def __del__(self):\n",
    "        if not self.file.closed:\n",
    "            self.file.close()"
   ]
  },
  {
   "cell_type": "code",
   "execution_count": 5,
   "id": "ae93b82f",
   "metadata": {
    "execution": {
     "iopub.execute_input": "2022-02-22T11:48:40.648487Z",
     "iopub.status.busy": "2022-02-22T11:48:40.647788Z",
     "iopub.status.idle": "2022-02-22T11:48:43.195480Z",
     "shell.execute_reply": "2022-02-22T11:48:43.194491Z",
     "shell.execute_reply.started": "2022-02-22T11:37:38.831295Z"
    },
    "papermill": {
     "duration": 2.563745,
     "end_time": "2022-02-22T11:48:43.195692",
     "exception": false,
     "start_time": "2022-02-22T11:48:40.631947",
     "status": "completed"
    },
    "tags": []
   },
   "outputs": [],
   "source": [
    "s = ReservoirSample(datafile)"
   ]
  },
  {
   "cell_type": "markdown",
   "id": "f4e88d1a",
   "metadata": {
    "papermill": {
     "duration": 0.010341,
     "end_time": "2022-02-22T11:48:43.217056",
     "exception": false,
     "start_time": "2022-02-22T11:48:43.206715",
     "status": "completed"
    },
    "tags": []
   },
   "source": [
    "The heap with the randomly generated tag values:"
   ]
  },
  {
   "cell_type": "code",
   "execution_count": 6,
   "id": "035102f4",
   "metadata": {
    "execution": {
     "iopub.execute_input": "2022-02-22T11:48:43.241847Z",
     "iopub.status.busy": "2022-02-22T11:48:43.241203Z",
     "iopub.status.idle": "2022-02-22T11:48:43.248753Z",
     "shell.execute_reply": "2022-02-22T11:48:43.249273Z",
     "shell.execute_reply.started": "2022-02-22T11:37:42.066053Z"
    },
    "papermill": {
     "duration": 0.021703,
     "end_time": "2022-02-22T11:48:43.249458",
     "exception": false,
     "start_time": "2022-02-22T11:48:43.227755",
     "status": "completed"
    },
    "tags": []
   },
   "outputs": [
    {
     "data": {
      "text/plain": [
       "[(0.9999983777034297, 'CCOC(=O)c1cc(CI)[nH]n1\\tCHEMBL346266\\n'),\n",
       " (0.9999992155910636,\n",
       "  'COc1ccc(cc1)S(=O)(=O)c1ccc(NC(=O)c2ccccc2Cl)cc1C#N\\tCHEMBL1552950\\n'),\n",
       " (0.9999989447676946,\n",
       "  'CCCCNc1c(cc2C(=O)N(CCCC)C(=O)c3cccc1c23)N(=O)=O\\tCHEMBL2234768\\n'),\n",
       " (0.9999998988631276,\n",
       "  'COc1cc2nccc(Oc3ccc4N(CCOc4c3)C(=O)Nc3ccc(Cl)cc3)c2cc1OC\\tCHEMBL270548\\n'),\n",
       " (0.9999992247537781,\n",
       "  'CCOC(=O)NC(CC(=O)c1ccccc1)C(=O)NC(C(C)C)C(=O)NC(C)C(=O)NC(CC(C)C)C(N)=O\\tCHEMBL311211\\n')]"
      ]
     },
     "execution_count": 6,
     "metadata": {},
     "output_type": "execute_result"
    }
   ],
   "source": [
    "s.heap"
   ]
  },
  {
   "cell_type": "markdown",
   "id": "5f6d2b96",
   "metadata": {
    "papermill": {
     "duration": 0.011357,
     "end_time": "2022-02-22T11:48:43.271920",
     "exception": false,
     "start_time": "2022-02-22T11:48:43.260563",
     "status": "completed"
    },
    "tags": []
   },
   "source": [
    "The random sample of the data stream:"
   ]
  },
  {
   "cell_type": "code",
   "execution_count": 7,
   "id": "42fea00b",
   "metadata": {
    "execution": {
     "iopub.execute_input": "2022-02-22T11:48:43.297718Z",
     "iopub.status.busy": "2022-02-22T11:48:43.296999Z",
     "iopub.status.idle": "2022-02-22T11:48:43.301627Z",
     "shell.execute_reply": "2022-02-22T11:48:43.302194Z",
     "shell.execute_reply.started": "2022-02-22T11:37:51.347252Z"
    },
    "papermill": {
     "duration": 0.019359,
     "end_time": "2022-02-22T11:48:43.302371",
     "exception": false,
     "start_time": "2022-02-22T11:48:43.283012",
     "status": "completed"
    },
    "tags": []
   },
   "outputs": [
    {
     "data": {
      "text/plain": [
       "['CCOC(=O)c1cc(CI)[nH]n1\\tCHEMBL346266\\n',\n",
       " 'COc1ccc(cc1)S(=O)(=O)c1ccc(NC(=O)c2ccccc2Cl)cc1C#N\\tCHEMBL1552950\\n',\n",
       " 'CCCCNc1c(cc2C(=O)N(CCCC)C(=O)c3cccc1c23)N(=O)=O\\tCHEMBL2234768\\n',\n",
       " 'COc1cc2nccc(Oc3ccc4N(CCOc4c3)C(=O)Nc3ccc(Cl)cc3)c2cc1OC\\tCHEMBL270548\\n',\n",
       " 'CCOC(=O)NC(CC(=O)c1ccccc1)C(=O)NC(C(C)C)C(=O)NC(C)C(=O)NC(CC(C)C)C(N)=O\\tCHEMBL311211\\n']"
      ]
     },
     "execution_count": 7,
     "metadata": {},
     "output_type": "execute_result"
    }
   ],
   "source": [
    "s.sample"
   ]
  }
 ],
 "metadata": {
  "kernelspec": {
   "display_name": "Python 3 (ipykernel)",
   "language": "python",
   "name": "python3"
  },
  "language_info": {
   "codemirror_mode": {
    "name": "ipython",
    "version": 3
   },
   "file_extension": ".py",
   "mimetype": "text/x-python",
   "name": "python",
   "nbconvert_exporter": "python",
   "pygments_lexer": "ipython3",
   "version": "3.8.11"
  },
  "papermill": {
   "default_parameters": {},
   "duration": 13.955285,
   "end_time": "2022-02-22T11:48:43.924288",
   "environment_variables": {},
   "exception": null,
   "input_path": "__notebook__.ipynb",
   "output_path": "__notebook__.ipynb",
   "parameters": {},
   "start_time": "2022-02-22T11:48:29.969003",
   "version": "2.3.3"
  }
 },
 "nbformat": 4,
 "nbformat_minor": 5
}
