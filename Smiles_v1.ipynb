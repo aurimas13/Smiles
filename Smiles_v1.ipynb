{
 "cells": [
  {
   "cell_type": "markdown",
   "id": "1f16f2ea",
   "metadata": {
    "papermill": {
     "duration": 0.017509,
     "end_time": "2022-02-25T15:09:59.521245",
     "exception": false,
     "start_time": "2022-02-25T15:09:59.503736",
     "status": "completed"
    },
    "tags": []
   },
   "source": [
    "# Smiles in-depth analysis      "
   ]
  },
  {
   "cell_type": "markdown",
   "id": "bec42ad5",
   "metadata": {
    "papermill": {
     "duration": 0.015618,
     "end_time": "2022-02-25T15:09:59.555135",
     "exception": false,
     "start_time": "2022-02-25T15:09:59.539517",
     "status": "completed"
    },
    "tags": []
   },
   "source": [
    "I am still working on this as of 03/12/22. This Jupyter Notebook will either be updated or additional notebooks added. A few functions are written to get the tediousness out of the way.                                     "
   ]
  },
  {
   "cell_type": "markdown",
   "id": "7ae6fd92",
   "metadata": {
    "papermill": {
     "duration": 0.016214,
     "end_time": "2022-02-25T15:09:59.587219",
     "exception": false,
     "start_time": "2022-02-25T15:09:59.571005",
     "status": "completed"
    },
    "tags": []
   },
   "source": [
    "## 1. Load the libraries"
   ]
  },
  {
   "cell_type": "code",
   "execution_count": 1,
   "id": "1dc6f483",
   "metadata": {
    "execution": {
     "iopub.execute_input": "2022-02-25T15:09:59.635078Z",
     "iopub.status.busy": "2022-02-25T15:09:59.634249Z",
     "iopub.status.idle": "2022-02-25T15:10:07.107106Z",
     "shell.execute_reply": "2022-02-25T15:10:07.107878Z",
     "shell.execute_reply.started": "2022-02-21T14:18:48.562778Z"
    },
    "papermill": {
     "duration": 7.504385,
     "end_time": "2022-02-25T15:10:07.108317",
     "exception": false,
     "start_time": "2022-02-25T15:09:59.603932",
     "status": "completed"
    },
    "tags": []
   },
   "outputs": [
    {
     "name": "stdout",
     "output_type": "stream",
     "text": [
      "/kaggle/input/chembl22/chembl_22_clean_1576904_sorted_std_final.smi\n"
     ]
    }
   ],
   "source": [
    "import numpy as np # linear algebra\n",
    "import pandas as pd # data processing, CSV file I/O (e.g. pd.read_csv)\n",
    "import tensorflow as tf\n",
    "from keras.preprocessing.text import Tokenizer \n",
    "from keras.preprocessing.sequence import pad_sequences \n",
    "from sklearn.model_selection import train_test_split\n",
    "\n",
    "import os\n",
    "for dirname, _, filenames in os.walk('/kaggle/input'):\n",
    "    for filename in filenames:\n",
    "        print(os.path.join(dirname, filename))\n",
    "\n"
   ]
  },
  {
   "cell_type": "markdown",
   "id": "f8b3ebe2",
   "metadata": {
    "papermill": {
     "duration": 0.01594,
     "end_time": "2022-02-25T15:10:07.142374",
     "exception": false,
     "start_time": "2022-02-25T15:10:07.126434",
     "status": "completed"
    },
    "tags": []
   },
   "source": [
    "## 2. Installing RDkit\n",
    "\n",
    "RDkit is a Python package that contains a lot of great functions for visualizing small molecules and interpretting SMILES strings. You can even use RDkit to see if a SMILES string is valid. This function is really useful for training generative networks or reinforcement learning agents!\n",
    "\n",
    "Check out  the [RDkit documentation](https://www.rdkit.org/docs/GettingStartedInPython.html)!\n",
    "\n",
    "Use of molecular descriptor methods can be found [here](https://www.rdkit.org/docs/source/rdkit.Chem.Descriptors.html).\n",
    "\n",
    "**Molecular descriptors available**\n",
    "\n",
    "* Gasteiger/Marsili Partial Charges\n",
    "* BalabanJ\n",
    "* BertzCT\n",
    "* Ipc\n",
    "* HallKierAlpha\n",
    "* Kappa1 - Kappa3\n",
    "* Phi\n",
    "* Chi0, Chi1\n",
    "* Chi0n - Chi4n\n",
    "* Chi0v - Chi4v\n",
    "* MolLogP\n",
    "* MolMR\n",
    "* MolWt\n",
    "* ExactMolWt\n",
    "* HeavyAtomCount\n",
    "* HeavyAtomMolWt\n",
    "* NHOHCount\n",
    "* NOCount\n",
    "* NumHAcceptors\n",
    "* NumHDonors\n",
    "* NumHeteroatoms\n",
    "* NumRotatableBonds\n",
    "* NumValenceElectrons\n",
    "* NumAmideBonds\n",
    "* Num{Aromatic,Saturated,Aliphatic}Rings\n",
    "* Num{Aromatic,Saturated,Aliphatic}{Hetero,Carbo}cycles\n",
    "* RingCount\n",
    "* FractionCSP3\n",
    "* NumSpiroAtoms\n",
    "* NumBridgeheadAtoms\n",
    "* TPSA\n",
    "* LabuteASA\n",
    "* PEOE_VSA1 - PEOE_VSA14\n",
    "* SMR_VSA1 - SMR_VSA10\n",
    "* SlogP_VSA1 - SlogP_VSA12\n",
    "* EState_VSA1 - EState_VSA11\n",
    "* VSA_EState1 - VSA_EState10\n",
    "* MQNs\n",
    "* Topliss fragments\n",
    "* Autocorr2D\n",
    "* BCUT2D\n",
    "\n",
    "**3D descriptors**\n",
    "\n",
    "* Plane of best fit (PBF)\n",
    "* PMI1, PMI2, PMI3\n",
    "* NPR1, NPR2\n",
    "* Radius of gyration\n",
    "* Inertial shape factor\n",
    "* Eccentricity\n",
    "* Asphericity\n",
    "* Spherocity Index\n",
    "* Autocorr3D\n",
    "* RDF\n",
    "* MORSE\n",
    "* WHIM\n",
    "* GETAWAY"
   ]
  },
  {
   "cell_type": "code",
   "execution_count": 2,
   "id": "7bca30ba",
   "metadata": {
    "_kg_hide-input": true,
    "_kg_hide-output": true,
    "execution": {
     "iopub.execute_input": "2022-02-25T15:10:07.187625Z",
     "iopub.status.busy": "2022-02-25T15:10:07.186627Z",
     "iopub.status.idle": "2022-02-25T15:11:54.062028Z",
     "shell.execute_reply": "2022-02-25T15:11:54.061449Z",
     "shell.execute_reply.started": "2022-02-21T14:10:41.082879Z"
    },
    "papermill": {
     "duration": 106.903588,
     "end_time": "2022-02-25T15:11:54.062202",
     "exception": false,
     "start_time": "2022-02-25T15:10:07.158614",
     "status": "completed"
    },
    "tags": []
   },
   "outputs": [
    {
     "name": "stdout",
     "output_type": "stream",
     "text": [
      "--2022-02-25 15:10:07--  https://repo.continuum.io/miniconda/Miniconda3-py37_4.8.3-Linux-x86_64.sh\r\n",
      "Resolving repo.continuum.io (repo.continuum.io)... 104.18.200.79, 104.18.201.79, 2606:4700::6812:c84f, ...\r\n",
      "Connecting to repo.continuum.io (repo.continuum.io)|104.18.200.79|:443... connected.\r\n",
      "HTTP request sent, awaiting response... 301 Moved Permanently\r\n",
      "Location: https://repo.anaconda.com/miniconda/Miniconda3-py37_4.8.3-Linux-x86_64.sh [following]\r\n",
      "--2022-02-25 15:10:08--  https://repo.anaconda.com/miniconda/Miniconda3-py37_4.8.3-Linux-x86_64.sh\r\n",
      "Resolving repo.anaconda.com (repo.anaconda.com)... 104.16.131.3, 104.16.130.3, 2606:4700::6810:8203, ...\r\n",
      "Connecting to repo.anaconda.com (repo.anaconda.com)|104.16.131.3|:443... connected.\r\n",
      "HTTP request sent, awaiting response... 200 OK\r\n",
      "Length: 88867207 (85M) [application/x-sh]\r\n",
      "Saving to: ‘Miniconda3-py37_4.8.3-Linux-x86_64.sh’\r\n",
      "\r\n",
      "Miniconda3-py37_4.8 100%[===================>]  84.75M   153MB/s    in 0.6s    \r\n",
      "\r\n",
      "2022-02-25 15:10:08 (153 MB/s) - ‘Miniconda3-py37_4.8.3-Linux-x86_64.sh’ saved [88867207/88867207]\r\n",
      "\r\n",
      "PREFIX=/usr/local\r\n",
      "Unpacking payload ...\r\n",
      "Collecting package metadata (current_repodata.json): - \b\b\\ \b\b| \b\bdone\r\n",
      "Solving environment: - \b\b\\ \b\b| \b\bdone\r\n",
      "\r\n",
      "## Package Plan ##\r\n",
      "\r\n",
      "  environment location: /usr/local\r\n",
      "\r\n",
      "  added / updated specs:\r\n",
      "    - _libgcc_mutex==0.1=main\r\n",
      "    - ca-certificates==2020.1.1=0\r\n",
      "    - certifi==2020.4.5.1=py37_0\r\n",
      "    - cffi==1.14.0=py37he30daa8_1\r\n",
      "    - chardet==3.0.4=py37_1003\r\n",
      "    - conda-package-handling==1.6.1=py37h7b6447c_0\r\n",
      "    - conda==4.8.3=py37_0\r\n",
      "    - cryptography==2.9.2=py37h1ba5d50_0\r\n",
      "    - idna==2.9=py_1\r\n",
      "    - ld_impl_linux-64==2.33.1=h53a641e_7\r\n",
      "    - libedit==3.1.20181209=hc058e9b_0\r\n",
      "    - libffi==3.3=he6710b0_1\r\n",
      "    - libgcc-ng==9.1.0=hdf63c60_0\r\n",
      "    - libstdcxx-ng==9.1.0=hdf63c60_0\r\n",
      "    - ncurses==6.2=he6710b0_1\r\n",
      "    - openssl==1.1.1g=h7b6447c_0\r\n",
      "    - pip==20.0.2=py37_3\r\n",
      "    - pycosat==0.6.3=py37h7b6447c_0\r\n",
      "    - pycparser==2.20=py_0\r\n",
      "    - pyopenssl==19.1.0=py37_0\r\n",
      "    - pysocks==1.7.1=py37_0\r\n",
      "    - python==3.7.7=hcff3b4d_5\r\n",
      "    - readline==8.0=h7b6447c_0\r\n",
      "    - requests==2.23.0=py37_0\r\n",
      "    - ruamel_yaml==0.15.87=py37h7b6447c_0\r\n",
      "    - setuptools==46.4.0=py37_0\r\n",
      "    - six==1.14.0=py37_0\r\n",
      "    - sqlite==3.31.1=h62c20be_1\r\n",
      "    - tk==8.6.8=hbc83047_0\r\n",
      "    - tqdm==4.46.0=py_0\r\n",
      "    - urllib3==1.25.8=py37_0\r\n",
      "    - wheel==0.34.2=py37_0\r\n",
      "    - xz==5.2.5=h7b6447c_0\r\n",
      "    - yaml==0.1.7=had09818_2\r\n",
      "    - zlib==1.2.11=h7b6447c_3\r\n",
      "\r\n",
      "\r\n",
      "The following NEW packages will be INSTALLED:\r\n",
      "\r\n",
      "  _libgcc_mutex      pkgs/main/linux-64::_libgcc_mutex-0.1-main\r\n",
      "  ca-certificates    pkgs/main/linux-64::ca-certificates-2020.1.1-0\r\n",
      "  certifi            pkgs/main/linux-64::certifi-2020.4.5.1-py37_0\r\n",
      "  cffi               pkgs/main/linux-64::cffi-1.14.0-py37he30daa8_1\r\n",
      "  chardet            pkgs/main/linux-64::chardet-3.0.4-py37_1003\r\n",
      "  conda              pkgs/main/linux-64::conda-4.8.3-py37_0\r\n",
      "  conda-package-han~ pkgs/main/linux-64::conda-package-handling-1.6.1-py37h7b6447c_0\r\n",
      "  cryptography       pkgs/main/linux-64::cryptography-2.9.2-py37h1ba5d50_0\r\n",
      "  idna               pkgs/main/noarch::idna-2.9-py_1\r\n",
      "  ld_impl_linux-64   pkgs/main/linux-64::ld_impl_linux-64-2.33.1-h53a641e_7\r\n",
      "  libedit            pkgs/main/linux-64::libedit-3.1.20181209-hc058e9b_0\r\n",
      "  libffi             pkgs/main/linux-64::libffi-3.3-he6710b0_1\r\n",
      "  libgcc-ng          pkgs/main/linux-64::libgcc-ng-9.1.0-hdf63c60_0\r\n",
      "  libstdcxx-ng       pkgs/main/linux-64::libstdcxx-ng-9.1.0-hdf63c60_0\r\n",
      "  ncurses            pkgs/main/linux-64::ncurses-6.2-he6710b0_1\r\n",
      "  openssl            pkgs/main/linux-64::openssl-1.1.1g-h7b6447c_0\r\n",
      "  pip                pkgs/main/linux-64::pip-20.0.2-py37_3\r\n",
      "  pycosat            pkgs/main/linux-64::pycosat-0.6.3-py37h7b6447c_0\r\n",
      "  pycparser          pkgs/main/noarch::pycparser-2.20-py_0\r\n",
      "  pyopenssl          pkgs/main/linux-64::pyopenssl-19.1.0-py37_0\r\n",
      "  pysocks            pkgs/main/linux-64::pysocks-1.7.1-py37_0\r\n",
      "  python             pkgs/main/linux-64::python-3.7.7-hcff3b4d_5\r\n",
      "  readline           pkgs/main/linux-64::readline-8.0-h7b6447c_0\r\n",
      "  requests           pkgs/main/linux-64::requests-2.23.0-py37_0\r\n",
      "  ruamel_yaml        pkgs/main/linux-64::ruamel_yaml-0.15.87-py37h7b6447c_0\r\n",
      "  setuptools         pkgs/main/linux-64::setuptools-46.4.0-py37_0\r\n",
      "  six                pkgs/main/linux-64::six-1.14.0-py37_0\r\n",
      "  sqlite             pkgs/main/linux-64::sqlite-3.31.1-h62c20be_1\r\n",
      "  tk                 pkgs/main/linux-64::tk-8.6.8-hbc83047_0\r\n",
      "  tqdm               pkgs/main/noarch::tqdm-4.46.0-py_0\r\n",
      "  urllib3            pkgs/main/linux-64::urllib3-1.25.8-py37_0\r\n",
      "  wheel              pkgs/main/linux-64::wheel-0.34.2-py37_0\r\n",
      "  xz                 pkgs/main/linux-64::xz-5.2.5-h7b6447c_0\r\n",
      "  yaml               pkgs/main/linux-64::yaml-0.1.7-had09818_2\r\n",
      "  zlib               pkgs/main/linux-64::zlib-1.2.11-h7b6447c_3\r\n",
      "\r\n",
      "\r\n",
      "Preparing transaction: - \b\b\\ \b\b| \b\b/ \b\b- \b\bdone\r\n",
      "Executing transaction: | \b\b/ \b\b- \b\b\\ \b\b| \b\b/ \b\b- \b\b\\ \b\b| \b\b/ \b\b- \b\b\\ \b\b| \b\b/ \b\b- \b\b\\ \b\b| \b\b/ \b\b- \b\bdone\r\n",
      "installation finished.\r\n",
      "WARNING:\r\n",
      "    You currently have a PYTHONPATH environment variable set. This may cause\r\n",
      "    unexpected behavior when running the Python interpreter in Miniconda3.\r\n",
      "    For best results, please verify that your PYTHONPATH only points to\r\n",
      "    directories of packages that are compatible with the Python interpreter\r\n",
      "    in Miniconda3: /usr/local\r\n",
      "\r\n",
      "real\t0m16.908s\r\n",
      "user\t0m14.763s\r\n",
      "sys\t0m3.621s\r\n",
      "Collecting package metadata (current_repodata.json): ...working... done\r\n",
      "Solving environment: ...working... done\r\n",
      "\r\n",
      "## Package Plan ##\r\n",
      "\r\n",
      "  environment location: /opt/conda\r\n",
      "\r\n",
      "  added / updated specs:\r\n",
      "    - rdkit\r\n",
      "\r\n",
      "\r\n",
      "The following packages will be downloaded:\r\n",
      "\r\n",
      "    package                    |            build\r\n",
      "    ---------------------------|-----------------\r\n",
      "    boost-1.74.0               |   py37h796e4cb_5         342 KB  conda-forge\r\n",
      "    boost-cpp-1.74.0           |       h312852a_4        16.3 MB  conda-forge\r\n",
      "    pycairo-1.20.1             |   py37hfff247e_1          83 KB  conda-forge\r\n",
      "    rdkit-2021.09.4            |   py37h13c2175_0        39.1 MB  conda-forge\r\n",
      "    reportlab-3.5.68           |   py37h69800bb_1         2.4 MB  conda-forge\r\n",
      "    ------------------------------------------------------------\r\n",
      "                                           Total:        58.3 MB\r\n",
      "\r\n",
      "The following NEW packages will be INSTALLED:\r\n",
      "\r\n",
      "  boost              conda-forge/linux-64::boost-1.74.0-py37h796e4cb_5\r\n",
      "  boost-cpp          conda-forge/linux-64::boost-cpp-1.74.0-h312852a_4\r\n",
      "  pycairo            conda-forge/linux-64::pycairo-1.20.1-py37hfff247e_1\r\n",
      "  rdkit              conda-forge/linux-64::rdkit-2021.09.4-py37h13c2175_0\r\n",
      "  reportlab          conda-forge/linux-64::reportlab-3.5.68-py37h69800bb_1\r\n",
      "\r\n",
      "\r\n",
      "Preparing transaction: ...working... done\r\n",
      "Verifying transaction: ...working... done\r\n",
      "Executing transaction: ...working... done\r\n",
      "\r\n",
      "real\t1m25.904s\r\n",
      "user\t1m2.334s\r\n",
      "sys\t0m7.794s\r\n"
     ]
    }
   ],
   "source": [
    "!wget -c https://repo.continuum.io/miniconda/Miniconda3-py37_4.8.3-Linux-x86_64.sh\n",
    "!chmod +x Miniconda3-py37_4.8.3-Linux-x86_64.sh\n",
    "!time bash ./Miniconda3-py37_4.8.3-Linux-x86_64.sh -b -f -p /usr/local\n",
    "!time conda install -q -y -c conda-forge rdkit\n",
    "\n",
    "import sys\n",
    "sys.path.append('/usr/local/lib/python3.7/site-packages/')"
   ]
  },
  {
   "cell_type": "markdown",
   "id": "ca35eb5c",
   "metadata": {
    "papermill": {
     "duration": 0.038875,
     "end_time": "2022-02-25T15:11:54.140328",
     "exception": false,
     "start_time": "2022-02-25T15:11:54.101453",
     "status": "completed"
    },
    "tags": []
   },
   "source": [
    "## 3. Loading and preprocessing the dataset\n",
    "While loading each SMILES string, I go ahead and tack on a '!' at the beginning and 'E' at the end. 'E's are added until the SMILES string len is equal to maxlen.\n",
    "'!' and 'E' are acting as a starting and end token, respectively."
   ]
  },
  {
   "cell_type": "code",
   "execution_count": 3,
   "id": "a7114d15",
   "metadata": {
    "execution": {
     "iopub.execute_input": "2022-02-25T15:11:54.228926Z",
     "iopub.status.busy": "2022-02-25T15:11:54.228183Z",
     "iopub.status.idle": "2022-02-25T15:11:59.893460Z",
     "shell.execute_reply": "2022-02-25T15:11:59.892703Z",
     "shell.execute_reply.started": "2022-02-21T14:12:58.649718Z"
    },
    "papermill": {
     "duration": 5.712005,
     "end_time": "2022-02-25T15:11:59.893622",
     "exception": false,
     "start_time": "2022-02-25T15:11:54.181617",
     "status": "completed"
    },
    "tags": []
   },
   "outputs": [
    {
     "name": "stdout",
     "output_type": "stream",
     "text": [
      "Number of entries processed:  991776\n"
     ]
    }
   ],
   "source": [
    "#Load the smiles strings. Add prefix character. Pad with suffix characters until the full character length.\n",
    "smiles = open(dirname+'/'+filename)\n",
    "\n",
    "smistr = []\n",
    "#Set the maximum size SMILES string you want to gather.\n",
    "maxlen = 50\n",
    "\n",
    "for line in smiles:\n",
    "  if len(line.split()[0]) <= maxlen:\n",
    "    appendage = \"!\"\n",
    "    appendage += line.split()[0]\n",
    "    while len(appendage) <= maxlen:\n",
    "      appendage += \"E\"\n",
    "    smistr.append(appendage)\n",
    "  else:\n",
    "    continue\n",
    "    \n",
    "print ('Number of entries processed: ', len(smistr))"
   ]
  },
  {
   "cell_type": "markdown",
   "id": "9f48aff5",
   "metadata": {
    "papermill": {
     "duration": 0.041089,
     "end_time": "2022-02-25T15:11:59.976388",
     "exception": false,
     "start_time": "2022-02-25T15:11:59.935299",
     "status": "completed"
    },
    "tags": []
   },
   "source": [
    "## 4. Creating a tokenzier and one-hot encoder of the SMILES strings"
   ]
  },
  {
   "cell_type": "code",
   "execution_count": 4,
   "id": "a59fd03b",
   "metadata": {
    "execution": {
     "iopub.execute_input": "2022-02-25T15:12:00.081531Z",
     "iopub.status.busy": "2022-02-25T15:12:00.059985Z",
     "iopub.status.idle": "2022-02-25T15:12:39.757541Z",
     "shell.execute_reply": "2022-02-25T15:12:39.758097Z",
     "shell.execute_reply.started": "2022-02-21T14:23:00.536381Z"
    },
    "papermill": {
     "duration": 39.741203,
     "end_time": "2022-02-25T15:12:39.758275",
     "exception": false,
     "start_time": "2022-02-25T15:12:00.017072",
     "status": "completed"
    },
    "tags": []
   },
   "outputs": [
    {
     "name": "stdout",
     "output_type": "stream",
     "text": [
      "Encoded string: [12, 3, 3, 7, 1, 1, 1, 1, 1, 1, 1, 1, 1, 1, 1, 1, 1, 1, 1, 1, 1, 1, 1, 1, 1, 1, 1, 1, 1, 1, 1, 1, 1, 1, 1, 1, 1, 1, 1, 1, 1, 1, 1, 1, 1, 1, 1, 1, 1, 1, 1]\n"
     ]
    }
   ],
   "source": [
    "#Create a tokenizer for vectorization. \n",
    "tokenizer = Tokenizer(char_level=True, lower=False)\n",
    "tokenizer.fit_on_texts(smistr)\n",
    "#text_to_sequences encoders\n",
    "sequences = tokenizer.texts_to_sequences(smistr)\n",
    "data = pad_sequences(sequences, maxlen=maxlen)\n",
    "print ('Encoded string:',sequences[0])"
   ]
  },
  {
   "cell_type": "code",
   "execution_count": 5,
   "id": "c6da5ad0",
   "metadata": {
    "execution": {
     "iopub.execute_input": "2022-02-25T15:12:39.841967Z",
     "iopub.status.busy": "2022-02-25T15:12:39.841284Z",
     "iopub.status.idle": "2022-02-25T15:12:39.849949Z",
     "shell.execute_reply": "2022-02-25T15:12:39.849393Z",
     "shell.execute_reply.started": "2022-02-21T14:23:39.526846Z"
    },
    "papermill": {
     "duration": 0.051984,
     "end_time": "2022-02-25T15:12:39.850113",
     "exception": false,
     "start_time": "2022-02-25T15:12:39.798129",
     "status": "completed"
    },
    "tags": []
   },
   "outputs": [
    {
     "name": "stdout",
     "output_type": "stream",
     "text": [
      "Decoded string: ['C C O E E E E E E E E E E E E E E E E E E E E E E E E E E E E E E E E E E E E E E E E E E E E E E E']\n"
     ]
    }
   ],
   "source": [
    "#sequences_to_text decodes\n",
    "print ('Decoded string:',tokenizer.sequences_to_texts(data[0:1]))"
   ]
  },
  {
   "cell_type": "code",
   "execution_count": 6,
   "id": "ff82b2e8",
   "metadata": {
    "execution": {
     "iopub.execute_input": "2022-02-25T15:12:39.938100Z",
     "iopub.status.busy": "2022-02-25T15:12:39.937431Z",
     "iopub.status.idle": "2022-02-25T15:12:39.942720Z",
     "shell.execute_reply": "2022-02-25T15:12:39.943261Z",
     "shell.execute_reply.started": "2022-02-21T14:48:47.604155Z"
    },
    "papermill": {
     "duration": 0.05047,
     "end_time": "2022-02-25T15:12:39.943460",
     "exception": false,
     "start_time": "2022-02-25T15:12:39.892990",
     "status": "completed"
    },
    "tags": []
   },
   "outputs": [],
   "source": [
    "def decoder(array, tokenizer):\n",
    "    '''\n",
    "    Converts one-hot encoded sequences into SMILES strings that are ready to view or recieve in RDkit.\n",
    "    \n",
    "    '''\n",
    "    output = tokenizer.sequences_to_texts(array)\n",
    "    #Modify this if you change the start or end token.\n",
    "    disallowed_characters = 'E! '\n",
    "    for character in disallowed_characters:\n",
    "        output = [i.replace(character,'') for i in output]\n",
    "    return output"
   ]
  },
  {
   "cell_type": "code",
   "execution_count": 7,
   "id": "6db34577",
   "metadata": {
    "execution": {
     "iopub.execute_input": "2022-02-25T15:12:40.032886Z",
     "iopub.status.busy": "2022-02-25T15:12:40.032182Z",
     "iopub.status.idle": "2022-02-25T15:12:40.034890Z",
     "shell.execute_reply": "2022-02-25T15:12:40.035375Z",
     "shell.execute_reply.started": "2022-02-21T14:44:10.187828Z"
    },
    "papermill": {
     "duration": 0.051382,
     "end_time": "2022-02-25T15:12:40.035579",
     "exception": false,
     "start_time": "2022-02-25T15:12:39.984197",
     "status": "completed"
    },
    "tags": []
   },
   "outputs": [
    {
     "name": "stdout",
     "output_type": "stream",
     "text": [
      "['ON1CCCC1=O', 'CCC(C)(C)O', 'CCOC(=O)CC', 'CCCOC(C)=O', 'OCCNCCNCCO', 'CCCCCN(C)C', 'O=CNC1CCC1', 'O=C1CCC=C1', 'CCN(CC)CCN', 'CC(=O)NC#N', 'CN(C)CCCCN', 'NCCCCNCC=C']\n"
     ]
    }
   ],
   "source": [
    "decoded_smiles = decoder(data[490:502],tokenizer)\n",
    "print (decoded_smiles)"
   ]
  },
  {
   "cell_type": "markdown",
   "id": "61aeb248",
   "metadata": {
    "papermill": {
     "duration": 0.042291,
     "end_time": "2022-02-25T15:12:40.120188",
     "exception": false,
     "start_time": "2022-02-25T15:12:40.077897",
     "status": "completed"
    },
    "tags": []
   },
   "source": [
    "## 5. Viewing decoded SMILES strings in RDkit"
   ]
  },
  {
   "cell_type": "code",
   "execution_count": 8,
   "id": "5c1b7f74",
   "metadata": {
    "execution": {
     "iopub.execute_input": "2022-02-25T15:12:40.208493Z",
     "iopub.status.busy": "2022-02-25T15:12:40.207795Z",
     "iopub.status.idle": "2022-02-25T15:12:40.517706Z",
     "shell.execute_reply": "2022-02-25T15:12:40.518223Z",
     "shell.execute_reply.started": "2022-02-21T14:44:11.866477Z"
    },
    "papermill": {
     "duration": 0.354451,
     "end_time": "2022-02-25T15:12:40.518399",
     "exception": false,
     "start_time": "2022-02-25T15:12:40.163948",
     "status": "completed"
    },
    "tags": []
   },
   "outputs": [
    {
     "data": {
      "image/png": "[encoded data removed]",
      "text/plain": [
       "<PIL.Image.Image image mode=RGBA size=2400x200 at 0x7F19D45785D0>"
      ]
     },
     "execution_count": 8,
     "metadata": {},
     "output_type": "execute_result"
    }
   ],
   "source": [
    "from rdkit import Chem\n",
    "from rdkit.Chem import Draw, Descriptors, AllChem\n",
    "\n",
    "#Convert each smiles string to an RDkit \"mol\" object and store in a list.\n",
    "mols = [Chem.MolFromSmiles(i) for i in decoded_smiles]\n",
    "#Use the MolsToImage method in Draw to view all the molecules.\n",
    "Draw.MolsToImage(mols)\n"
   ]
  },
  {
   "cell_type": "code",
   "execution_count": 9,
   "id": "c0dbd7f4",
   "metadata": {
    "execution": {
     "iopub.execute_input": "2022-02-25T15:12:40.609729Z",
     "iopub.status.busy": "2022-02-25T15:12:40.608974Z",
     "iopub.status.idle": "2022-02-25T15:12:40.630856Z",
     "shell.execute_reply": "2022-02-25T15:12:40.631430Z",
     "shell.execute_reply.started": "2022-02-21T14:44:15.123683Z"
    },
    "papermill": {
     "duration": 0.069313,
     "end_time": "2022-02-25T15:12:40.631614",
     "exception": false,
     "start_time": "2022-02-25T15:12:40.562301",
     "status": "completed"
    },
    "tags": []
   },
   "outputs": [
    {
     "data": {
      "image/png": "[encoded data removed]",
      "text/plain": [
       "<PIL.PngImagePlugin.PngImageFile image mode=RGB size=300x300 at 0x7F19D3F7FE90>"
      ]
     },
     "execution_count": 9,
     "metadata": {},
     "output_type": "execute_result"
    }
   ],
   "source": [
    "#Or use MolToImage in Draw and a single \"mol\" object (not in a list) to view that molecule..\n",
    "Draw.MolToImage(mols[0])"
   ]
  },
  {
   "cell_type": "markdown",
   "id": "aa51776e",
   "metadata": {
    "papermill": {
     "duration": 0.042507,
     "end_time": "2022-02-25T15:12:40.717798",
     "exception": false,
     "start_time": "2022-02-25T15:12:40.675291",
     "status": "completed"
    },
    "tags": []
   },
   "source": [
    "## 6. Train/test splitting \n",
    "\n",
    "Further progress under development.."
   ]
  },
  {
   "cell_type": "code",
   "execution_count": 10,
   "id": "6416a56b",
   "metadata": {
    "execution": {
     "iopub.execute_input": "2022-02-25T15:12:40.809953Z",
     "iopub.status.busy": "2022-02-25T15:12:40.809277Z",
     "iopub.status.idle": "2022-02-25T15:12:41.007338Z",
     "shell.execute_reply": "2022-02-25T15:12:41.007923Z",
     "shell.execute_reply.started": "2022-02-21T14:49:42.273788Z"
    },
    "papermill": {
     "duration": 0.246672,
     "end_time": "2022-02-25T15:12:41.008114",
     "exception": false,
     "start_time": "2022-02-25T15:12:40.761442",
     "status": "completed"
    },
    "tags": []
   },
   "outputs": [],
   "source": [
    "train, test = train_test_split(data, test_size=0.2, random_state=42)"
   ]
  }
 ],
 "metadata": {
  "kernelspec": {
   "display_name": "Python 3 (ipykernel)",
   "language": "python",
   "name": "python3"
  },
  "language_info": {
   "codemirror_mode": {
    "name": "ipython",
    "version": 3
   },
   "file_extension": ".py",
   "mimetype": "text/x-python",
   "name": "python",
   "nbconvert_exporter": "python",
   "pygments_lexer": "ipython3",
   "version": "3.8.11"
  },
  "papermill": {
   "default_parameters": {},
   "duration": 175.922129,
   "end_time": "2022-02-25T15:12:44.339649",
   "environment_variables": {},
   "exception": null,
   "input_path": "__notebook__.ipynb",
   "output_path": "__notebook__.ipynb",
   "parameters": {},
   "start_time": "2022-02-25T15:09:48.417520",
   "version": "2.3.3"
  }
 },
 "nbformat": 4,
 "nbformat_minor": 5
}
